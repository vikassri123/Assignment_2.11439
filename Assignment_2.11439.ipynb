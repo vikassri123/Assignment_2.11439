{
 "cells": [
  {
   "cell_type": "markdown",
   "metadata": {},
   "source": [
    "# Task 1:\n",
    "# ========\n",
    "\n",
    "# Question 1.1\n",
    "# Write a Python Program to implement your own myreduce() function which   works exactly like Python's built-in function reduce()"
   ]
  },
  {
   "cell_type": "code",
   "execution_count": 40,
   "metadata": {},
   "outputs": [],
   "source": [
    "# Function myreduce() similar to inbuilt function reduce()\n",
    "# It takes a list as input and multiply all elements on list and gives a single digit output\n",
    "\n",
    "def myreduce(f, a):\n",
    "    lst = a[0]\n",
    "    for i in a[1:]:\n",
    "        lst = f(lst, i)\n",
    "    return lst"
   ]
  },
  {
   "cell_type": "code",
   "execution_count": 41,
   "metadata": {},
   "outputs": [
    {
     "data": {
      "text/plain": [
       "24"
      ]
     },
     "execution_count": 41,
     "metadata": {},
     "output_type": "execute_result"
    }
   ],
   "source": [
    "# executing function by giving list as input\n",
    "# output is 24 \n",
    "\n",
    "myreduce( (lambda x, y: x *y), [1, 2, 3, 4])"
   ]
  },
  {
   "cell_type": "markdown",
   "metadata": {},
   "source": [
    "# Question 1.2\n",
    "\n",
    "# Write a Python program to implement your own myfilter() function which works exactly like Python's built-in function filter()"
   ]
  },
  {
   "cell_type": "code",
   "execution_count": 11,
   "metadata": {},
   "outputs": [],
   "source": [
    "# This function takes value to be deleted and a list then after executing myfilter()function it gives a new list as output\n",
    "# by removing the that element\n",
    "\n",
    "def myfilter(delete, lst1):\n",
    "    return [x for x in lst1 if x != delete]"
   ]
  },
  {
   "cell_type": "code",
   "execution_count": 12,
   "metadata": {},
   "outputs": [
    {
     "data": {
      "text/plain": [
       "[1, 3, 4, 5]"
      ]
     },
     "execution_count": 12,
     "metadata": {},
     "output_type": "execute_result"
    }
   ],
   "source": [
    "# Input was a list as [1,2,3,4,5,2]\n",
    "# While calling myfilter we mentioned 2 we have to delete\n",
    "# so in output we can not see 2 \n",
    "\n",
    "myfilter(2,[1,2,3,4,5,2])"
   ]
  },
  {
   "cell_type": "markdown",
   "metadata": {},
   "source": [
    "# Task 1\n",
    "# Question 2 \n",
    "\n",
    "# Implement List comprehensions to produce the following lists.\n",
    "# Write List comprehensions to produce the following Lists\n",
    "\n",
    "# ['A', 'C', 'A', 'D', 'G', 'I', ’L’, ‘ D’]\n",
    "\n",
    "# ['x', 'xx', 'xxx', 'xxxx', 'y', 'yy', 'yyy', 'yyyy', 'z', 'zz', 'zzz', 'zzzz']\n",
    "\n",
    "# ['x', 'y', 'z', 'xx', 'yy', 'zz', 'xx', 'yy', 'zz', 'xxxx', 'yyyy', 'zzzz']\n",
    "\n",
    "# [[2], [3], [4], [3], [4], [5], [4], [5], [6]]\n",
    "\n",
    "# [[2, 3, 4, 5], [3, 4, 5, 6], [4, 5, 6, 7], [5, 6, 7, 8]]\n",
    "\n",
    "# [(1, 1), (2, 1), (3, 1), (1, 2), (2, 2), (3, 2), (1, 3), (2, 3), (3, 3)]"
   ]
  },
  {
   "cell_type": "code",
   "execution_count": 8,
   "metadata": {},
   "outputs": [
    {
     "name": "stdout",
     "output_type": "stream",
     "text": [
      "ACADGILD as ['A', 'C', 'A', 'D', 'G', 'I', 'L', 'D']\n"
     ]
    }
   ],
   "source": [
    "# Program to print  ['A', 'C', 'A', 'D', 'G', 'I', ’L’, ‘ D’]\n",
    "\n",
    "example = \"ACADGILD\"\n",
    "a_list = [ a for a in example ]\n",
    "print (\"ACADGILD as \" + str(a_list))"
   ]
  },
  {
   "cell_type": "code",
   "execution_count": 13,
   "metadata": {},
   "outputs": [
    {
     "name": "stdout",
     "output_type": "stream",
     "text": [
      "['x','y','z'] output as ['x', 'xx', 'xxx', 'xxxx', 'y', 'yy', 'yyy', 'yyyy', 'z', 'zz', 'zzz', 'zzzz']\n"
     ]
    }
   ],
   "source": [
    "# Program to print \n",
    "# ['x', 'xx', 'xxx', 'xxxx', 'y', 'yy', 'yyy', 'yyyy', 'z', 'zz', 'zzz', 'zzzz']\n",
    "\n",
    "list_input = ['x','y','z']\n",
    "list_output = [ i*n for i in list_input for n in range(1,5)  ]\n",
    "print(\"['x','y','z'] output as \" +   str(list_output))"
   ]
  },
  {
   "cell_type": "code",
   "execution_count": 17,
   "metadata": {},
   "outputs": [
    {
     "name": "stdout",
     "output_type": "stream",
     "text": [
      "['x','y','z'] output as ['x', 'y', 'z', 'xx', 'yy', 'zz', 'xxx', 'yyy', 'zzz', 'xxxx', 'yyyy', 'zzzz']\n"
     ]
    }
   ],
   "source": [
    "# Program to print \n",
    "# ['x', 'y', 'z', 'xx', 'yy', 'zz', 'xx', 'yy', 'zz', 'xxxx', 'yyyy', 'zzzz']\n",
    "\n",
    "list_input = ['x','y','z']\n",
    "list_output = [ i*n for n in range(1,5) for i in list_input  ]\n",
    "print(\"['x','y','z'] output as \" +   str(list_output))"
   ]
  },
  {
   "cell_type": "code",
   "execution_count": 22,
   "metadata": {},
   "outputs": [
    {
     "name": "stdout",
     "output_type": "stream",
     "text": [
      "[2,3,4] output as [[2], [3], [4], [3], [4], [5], [4], [5], [6]]\n"
     ]
    }
   ],
   "source": [
    "# Program to print \n",
    "# [[2], [3], [4], [3], [4], [5], [4], [5], [6]]\n",
    "\n",
    "list_input = [2,3,4]\n",
    "list_output = [ [i+n] for i in list_input for n in range(0,3)]  # i = item, n = number\n",
    "print(\"[2,3,4] output as \" +  str(list_output))"
   ]
  },
  {
   "cell_type": "code",
   "execution_count": 25,
   "metadata": {},
   "outputs": [
    {
     "name": "stdout",
     "output_type": "stream",
     "text": [
      "[2,3,4,5] output as [[2, 3, 4], [3, 4, 5], [4, 5, 6], [5, 6, 7]]\n"
     ]
    }
   ],
   "source": [
    "# Program to print \n",
    "# [[2, 3, 4, 5], [3, 4, 5, 6], [4, 5, 6, 7], [5, 6, 7, 8]]\n",
    "\n",
    "list_input = [2,3,4,5]\n",
    "list_output = [ [i+n for i in input_list] for n in range(0,4)  ]   # i = item, n = number\n",
    "print(\"[2,3,4,5] output as \" +  str(list_output))"
   ]
  },
  {
   "cell_type": "code",
   "execution_count": 28,
   "metadata": {},
   "outputs": [
    {
     "name": "stdout",
     "output_type": "stream",
     "text": [
      "[1,2,3] output as [(1, 1), (1, 2), (1, 3), (2, 1), (2, 2), (2, 3), (3, 1), (3, 2), (3, 3)]\n"
     ]
    }
   ],
   "source": [
    "# Program to print \n",
    "# [(1, 1), (2, 1), (3, 1), (1, 2), (2, 2), (3, 2), (1, 3), (2, 3), (3, 3)]\n",
    "\n",
    "list_input=[1,2,3]\n",
    "list_output = [ (i,j) for i in list_input for j in list_input]\n",
    "print(\"[1,2,3] output as \" +  str(list_output))"
   ]
  },
  {
   "cell_type": "markdown",
   "metadata": {},
   "source": [
    "# Task-1\n",
    "# Question 3\n",
    "# Implement a function longestWord() that takes a list of words and returns the longest one."
   ]
  },
  {
   "cell_type": "code",
   "execution_count": 36,
   "metadata": {},
   "outputs": [
    {
     "name": "stdout",
     "output_type": "stream",
     "text": [
      "Please provide list of words: vikas acadgild_marathalli bangalore\n",
      "The longest word is : acadgild_marathalli\n"
     ]
    }
   ],
   "source": [
    "def longestWord():\n",
    "    input_list = input(\"Please provide list of words: \")\n",
    "\n",
    "    length = 0\n",
    "\n",
    "    for words in input_list.split():   # for loop to split input list into words\n",
    "        if len(words) > length:       # compare logic \n",
    "            length = len(words)       # compare logic \n",
    "            longest_word = words       # compare logic\n",
    "\n",
    "    print(\"The longest word is :\", longest_word)   # print longest word out of the list\n",
    "\n",
    "longestWord()  # call function "
   ]
  },
  {
   "cell_type": "markdown",
   "metadata": {},
   "source": [
    "# Task 2:\n",
    "# =======\n",
    "\n",
    "# Question 1.1\n",
    "# Write a Python Program(with class concepts) to find the area of the triangle using the below formula.\n",
    "# area = (s*(s-a)*(s-b)*(s-c)) ** 0.5\n",
    "# Function to take the length of the sides of triangle from user should be defined in the parent class and function to calculate the area should be defined in subclass."
   ]
  },
  {
   "cell_type": "code",
   "execution_count": 44,
   "metadata": {},
   "outputs": [
    {
     "name": "stdout",
     "output_type": "stream",
     "text": [
      "Enter the value of a = 2\n",
      "Enter the value of b = 3\n",
      "Enter the value of c = 4\n",
      "area : 2.9047375096555625\n"
     ]
    }
   ],
   "source": [
    "    class Triangle:              # class difinition\n",
    "     \n",
    "        def __init__(self,a,b,c):\n",
    "            self.a = float(a)\n",
    "            self.b = float(b)\n",
    "            self.c = float(c)\n",
    "     \n",
    "        def area(self):         # funtion to calculate area \n",
    "            s=(self.a + self.b + self.c)/2\n",
    "            return((s*(s-self.a)*(s-self.b)*(s-self.c))**0.5)\n",
    "     \n",
    "    a=input(\"Enter the value of a = \")     # value of side a\n",
    "    b=input(\"Enter the value of b = \")     # value of side b\n",
    "    c=input(\"Enter the value of c = \")     # value of side c\n",
    "    t = Triangle(a, b, c)                  # intialize class\n",
    "    print(\"area : {}\".format(t.area()))    # call function "
   ]
  },
  {
   "cell_type": "markdown",
   "metadata": {},
   "source": [
    "# Question 1.2\n",
    "# Write a function filter_long_words() that takes a list of words and an integer n and returns the list of words that are longer than n."
   ]
  },
  {
   "cell_type": "code",
   "execution_count": 55,
   "metadata": {},
   "outputs": [
    {
     "name": "stdout",
     "output_type": "stream",
     "text": [
      "['Srivastava', 'ACADGILD_MARATHALLI']\n"
     ]
    }
   ],
   "source": [
    "def filter_long_words(input_list,n):\n",
    " \n",
    "    list_words = []\n",
    " \n",
    "    for i in range(len(input_list)):\n",
    "        if len(input_list[i]) > n:\n",
    "            list_words.append(input_list[i])\n",
    " \n",
    "    return list_words\n",
    " \n",
    "input_list_words = ['Vikas','Srivastava','Bangalore','ACADGILD_MARATHALLI','ORR']\n",
    "n = 9\n",
    " \n",
    "print (str(filter_long_words(input_list_words,n)))"
   ]
  },
  {
   "cell_type": "markdown",
   "metadata": {},
   "source": [
    "# Question 2.1\n",
    "\n",
    "# Write a Python program using function concept that maps list of words into a list of integers representing the lengths of the corresponding words.\n",
    "\n",
    "# Hint: If a list [ ab,cde,erty] is passed on to the python function output should come as [2,3,4]\n",
    "\n",
    "# Here 2,3 and 4 are the lengths of the words in the list."
   ]
  },
  {
   "cell_type": "code",
   "execution_count": 58,
   "metadata": {},
   "outputs": [],
   "source": [
    "def map_to_lengths(list_words): # funtion to map lengths to words\n",
    "    lengths = []                # list to store length of invidual list element\n",
    "    for word in list_words:     # for loop to append lenght to list of lenghts  \n",
    "        lengths.append(len(word))\n",
    "    return lengths"
   ]
  },
  {
   "cell_type": "code",
   "execution_count": 61,
   "metadata": {},
   "outputs": [
    {
     "data": {
      "text/plain": [
       "[2, 3, 4]"
      ]
     },
     "execution_count": 61,
     "metadata": {},
     "output_type": "execute_result"
    }
   ],
   "source": [
    "map_to_lengths_for(['ab','cde','erty'])   # call function map_to_lengths(), input list is ['ab','cde','erty']"
   ]
  },
  {
   "cell_type": "markdown",
   "metadata": {},
   "source": [
    "# Question 2.2\n",
    "\n",
    "# Write a Python function which takes a character (i.e. a string of length 1) and returns True if it is a vowel, False otherwise."
   ]
  },
  {
   "cell_type": "code",
   "execution_count": 71,
   "metadata": {},
   "outputs": [],
   "source": [
    "def vowel_check(char):                        # define function \n",
    "    vowels_tuple = ('a', 'e', 'i', 'o', 'u')  # tuple of vowels\n",
    "    if char not in vowels_tuple:              # check if input string is in vowel tuple\n",
    "        return False                          # Return False\n",
    "    return True                               # Else Return True "
   ]
  },
  {
   "cell_type": "code",
   "execution_count": 72,
   "metadata": {},
   "outputs": [
    {
     "name": "stdout",
     "output_type": "stream",
     "text": [
      "False\n"
     ]
    }
   ],
   "source": [
    "print(vowel_check('s')) # Enter 's' as input, output will be False, as its not vowel"
   ]
  },
  {
   "cell_type": "code",
   "execution_count": 73,
   "metadata": {},
   "outputs": [
    {
     "name": "stdout",
     "output_type": "stream",
     "text": [
      "True\n"
     ]
    }
   ],
   "source": [
    "print(vowel_check('a'))  # Enter 'a' as input, output will be True, as its vowel"
   ]
  }
 ],
 "metadata": {
  "kernelspec": {
   "display_name": "Python 3",
   "language": "python",
   "name": "python3"
  },
  "language_info": {
   "codemirror_mode": {
    "name": "ipython",
    "version": 3
   },
   "file_extension": ".py",
   "mimetype": "text/x-python",
   "name": "python",
   "nbconvert_exporter": "python",
   "pygments_lexer": "ipython3",
   "version": "3.6.4"
  }
 },
 "nbformat": 4,
 "nbformat_minor": 2
}
